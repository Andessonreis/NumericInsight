{
  "nbformat": 4,
  "nbformat_minor": 0,
  "metadata": {
    "colab": {
      "provenance": [],
      "authorship_tag": "ABX9TyO+clP2PM5f5pTpApOnx16G"
    },
    "kernelspec": {
      "name": "python3",
      "display_name": "Python 3"
    },
    "language_info": {
      "name": "python"
    }
  },
  "cells": [
    {
      "cell_type": "code",
      "execution_count": 2,
      "metadata": {
        "id": "_76DIIOCAMC4"
      },
      "outputs": [],
      "source": [
        "# Importando bibliotecas numérica e matemática\n",
        "import numpy as np\n",
        "import math\n",
        "# Importando bibliotecas para visualização\n",
        "import matplotlib.pyplot as plt\n",
        "# Importando bibliotecas para manipulação simbólica\n",
        "from sympy import symbols, diff, lambdify, cos, sin, log\n",
        "# Importando biblioteca para criar tabelas bonitas\n",
        "from prettytable import PrettyTable"
      ]
    },
    {
      "cell_type": "code",
      "source": [
        "def metodo_bisseccao(f, a, b, precisao, max_iteracoes, exibir_grafico=True):\n",
        "    if f(a) * f(b) >= 0:\n",
        "        raise ValueError(\"Intervalo inválido. A função não muda de sinal no intervalo.\")\n",
        "\n",
        "    iteracao = 1\n",
        "    valores_x = []\n",
        "    limite_inferior = a\n",
        "    limite_superior = b\n",
        "\n",
        "    tabela = PrettyTable(['n', 'a', 'b', 'x', 'f(x)', 'f(a)', 'f(a) * f(x)'])\n",
        "\n",
        "    while iteracao <= max_iteracoes and abs(b - a) >= precisao:\n",
        "        x = (a + b) / 2\n",
        "        valores_x.append(x)\n",
        "\n",
        "        tabela.add_row([iteracao, a, b, x, f(x), f(a), f(a) * f(x)])\n",
        "\n",
        "        if f(a) * f(x) > 0:\n",
        "            a = x\n",
        "        else:\n",
        "            b = x\n",
        "\n",
        "        iteracao += 1\n",
        "\n",
        "    if exibir_grafico:\n",
        "        valores_y = [f(i) for i in valores_x]\n",
        "        plotar_grafico(limite_inferior, limite_superior, f, valores_x, valores_y, 'bisseccao', ultimo_ponto=(valores_x[-1], valores_y[-1]))\n",
        "\n",
        "    print(tabela)\n",
        "\n",
        "    print('\\nRESULTADO ')\n",
        "    return (a + b) / 2\n",
        "\n",
        "def plotar_grafico(limite_inferior, limite_superior, f, pontox=None, pontosy=None, metodo=None, ultimo_ponto=None):\n",
        "    x = np.linspace(limite_inferior, limite_superior, 100)\n",
        "    y = f(x)\n",
        "\n",
        "    plt.plot(x, y, label='Função', linewidth=3)\n",
        "\n",
        "    if pontox is not None and pontosy is not None:\n",
        "        plt.scatter(pontox[:-1], pontosy[:-1], color='red', label='Pontos das iterações')\n",
        "\n",
        "    if ultimo_ponto is not None:\n",
        "        plt.scatter(ultimo_ponto[0], ultimo_ponto[1], color='green', label='Solução encontrada')\n",
        "\n",
        "    plt.axhline(0, color='black', linewidth=0.5)\n",
        "    plt.axvline(0, color='black', linewidth=0.5)\n",
        "    plt.grid(color='gray', linestyle='--', linewidth=0.5)\n",
        "\n",
        "    if ultimo_ponto is None:\n",
        "        plt.title(f'Gráfico da Função')\n",
        "    else:\n",
        "        plt.title(f'Gráfico da Função - Método {metodo}')\n",
        "    plt.xlabel('x')\n",
        "    plt.ylabel('f(x)')\n",
        "    plt.legend()\n",
        "\n",
        "    print(\"\\n\\n\")\n",
        "    plt.show()\n"
      ],
      "metadata": {
        "id": "7ovZ22CdCNO4"
      },
      "execution_count": 4,
      "outputs": []
    }
  ]
}